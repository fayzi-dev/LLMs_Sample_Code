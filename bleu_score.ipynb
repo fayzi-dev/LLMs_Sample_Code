{
  "nbformat": 4,
  "nbformat_minor": 0,
  "metadata": {
    "colab": {
      "provenance": []
    },
    "kernelspec": {
      "name": "python3",
      "display_name": "Python 3"
    },
    "language_info": {
      "name": "python"
    }
  },
  "cells": [
    {
      "cell_type": "code",
      "source": [
        "from nltk.translate.bleu_score import sentence_bleu\n",
        "reference = [['my', 'name', 'is', 'Mohammad', 'Fayzi'], ['name', 'is' 'mohammad', 'Fayzi']]\n",
        "candidate = ['my', 'name', 'is', 'Mohammad', 'Fayzi']\n",
        "score = sentence_bleu(reference, candidate)\n",
        "print(score)"
      ],
      "metadata": {
        "colab": {
          "base_uri": "https://localhost:8080/"
        },
        "id": "uqVBmClH4K6T",
        "outputId": "3bf50896-cf22-4dbc-d839-34d1764910c0"
      },
      "execution_count": 2,
      "outputs": [
        {
          "output_type": "stream",
          "name": "stdout",
          "text": [
            "1.0\n"
          ]
        }
      ]
    },
    {
      "cell_type": "code",
      "source": [
        "from nltk.translate.bleu_score import sentence_bleu\n",
        "reference = [['my', 'name', 'is', 'Mohammad', 'Fayzi'], ['name', 'is' 'mohammad', 'Fayzi']]\n",
        "candidate = ['my', 'name', 'is', 'Mohammad', 'Fayz']\n",
        "score = sentence_bleu(reference, candidate)\n",
        "print(score)"
      ],
      "metadata": {
        "colab": {
          "base_uri": "https://localhost:8080/"
        },
        "id": "-ZwwijI64f_7",
        "outputId": "61596100-53e1-4243-c5ca-938d0c0636dc"
      },
      "execution_count": 14,
      "outputs": [
        {
          "output_type": "stream",
          "name": "stdout",
          "text": [
            "0.668740304976422\n"
          ]
        }
      ]
    },
    {
      "cell_type": "code",
      "source": [
        "from nltk.translate.bleu_score import sentence_bleu\n",
        "reference = [\"اسم من محمد فیضی هست.\".split()]\n",
        "candidate = \"اسم من محمد فیضی هست.\".split()\n",
        "score = sentence_bleu(reference, candidate)\n",
        "score"
      ],
      "metadata": {
        "colab": {
          "base_uri": "https://localhost:8080/"
        },
        "id": "z9wMW_tl5D9s",
        "outputId": "e7678e28-a2b6-4dbf-afd8-fdfd7db144e2"
      },
      "execution_count": 12,
      "outputs": [
        {
          "output_type": "execute_result",
          "data": {
            "text/plain": [
              "1.0"
            ]
          },
          "metadata": {},
          "execution_count": 12
        }
      ]
    },
    {
      "cell_type": "code",
      "source": [
        "from nltk.translate.bleu_score import sentence_bleu\n",
        "reference = [\"اسم من محمد فیضی هست.\".split()]\n",
        "candidate = \"اسم من محمد فیضی .\".split()\n",
        "score = sentence_bleu(reference, candidate)\n",
        "score"
      ],
      "metadata": {
        "colab": {
          "base_uri": "https://localhost:8080/"
        },
        "id": "vlb4BMPD-dVn",
        "outputId": "f080dc36-1ca7-46f5-826f-f9c37147fb10"
      },
      "execution_count": 15,
      "outputs": [
        {
          "output_type": "execute_result",
          "data": {
            "text/plain": [
              "0.668740304976422"
            ]
          },
          "metadata": {},
          "execution_count": 15
        }
      ]
    }
  ]
}