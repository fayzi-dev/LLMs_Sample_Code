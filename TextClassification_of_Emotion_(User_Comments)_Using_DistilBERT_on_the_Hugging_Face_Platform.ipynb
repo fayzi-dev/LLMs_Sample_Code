{
 "cells": [
  {
   "cell_type": "code",
   "execution_count": 1,
   "metadata": {
    "id": "ZQf9BuFCvQJZ"
   },
   "outputs": [],
   "source": [
    "from datasets import load_dataset\n",
    "import torch\n",
    "from transformers import AutoTokenizer, AutoModelForSequenceClassification\n",
    "from transformers import Trainer, TrainingArguments\n",
    "from sklearn.metrics import accuracy_score, f1_score"
   ]
  },
  {
   "cell_type": "code",
   "execution_count": 2,
   "metadata": {
    "colab": {
     "base_uri": "https://localhost:8080/",
     "height": 493,
     "referenced_widgets": [
      "86eb13b1026b435aa08fa940e03c59ee",
      "41b718d38e724eefb833d9a5bbf49fb6",
      "afafe14a66014f22b7fe14b597e55727",
      "f15f9efaff3e4726a15e85f9d07f0639",
      "eeb57cd10f6d47638dae11c5434f1b85",
      "1fd13eae99ae4822aee9626420888afc",
      "ee3fff50a365465187ab80bccfa8bb08",
      "a18ff8d9c0414337bd46f968c02ba5b9",
      "607fe0b72fcf40fe83edfafaa67fc62a",
      "bb39ea8d66b842d48db46a0e39b4c65e",
      "ce467248e844487282a4fc11606e55fa",
      "d2038211f20b4c99b1341bfa4565cac8",
      "70abdd9274504cfdbd76c8d128578b7b",
      "68cab09fa4f44b28a1ab51355fcbe66d",
      "8e384f72177a4fdc95c56114fabab0b1",
      "613161fb3bdc4477bf1f4c8472f7dd9e",
      "93f1265187d2429db5016b2b0216d021",
      "920b53477aa8467fbf6c3ab5840a2919",
      "bf658d9abe7e4fb2a004628ec30584b0",
      "f164114aa5644d17a30d1918e94cfa07",
      "623c45e1622f430d878ceb966d3c5007",
      "5c824e6055e24bd58d1732a70d7e544a",
      "a21d7f0d47a940e3b39d96a8484bc81b",
      "f5e07b1dd2954895adc2e5f7248a275e",
      "86e5695632c3467a849162a6c8ff88e0",
      "d356e03cc49f4e92ad0469bd9ac5f9a2",
      "0a758ac5139d4a1ca19e90e2844520d7",
      "0c8fd73fbe9b48aeb8961e74f31f500c",
      "324cc19c90834eb1a0136bd0d7870623",
      "ac37987a787246b8a995b2a9d2ad719d",
      "7eedc858b51b4cebbbb5df4d8de4dd69",
      "7eb4b847e6db484b806a20a5a7f58232",
      "f9d8147d5d4741d793e02158f91f4208",
      "d56c087fc80249eb888f4e7de6f7cf66",
      "4591402d7cdb4c5db4f789a1b0688a31",
      "fff4876f4bdb45aea3614e4611aeab21",
      "07f80a8790514575847f99c069ebdf3c",
      "06968b16fee44c8f8997d0fb6ace090c",
      "54a7fa5810074433b80963a2e02b4c60",
      "c1acd7121ed64c5eb5fa64f5d065c765",
      "27632bfbca024416b244397cf1b965aa",
      "966befd5599b449a810fcac2c7cf9d3a",
      "0b8806616fcd48d78a19937be5166ae3",
      "48d57273b6e744268b26bf03da61e465",
      "257dc40dcbb940b6a9975240e8be5fb3",
      "cedb39c501e54fda869a3fab31419389",
      "3ece9ed3945b4e429d8ea86b2cba0870",
      "b557a629a7a146ccad64bffbe4492720",
      "eda413d78d6c4c10a7c1edda36908003",
      "e890e545027c406b915e4bbdf343053c",
      "3d4e30c0c4154bc6891eba176557c5e6",
      "7b6a40d6d1994a72a763c762ba4b88f8",
      "0b060efd0e19462d897b23ac5044d2d8",
      "aa32b5e89e38475595fff5e679742c03",
      "cde0d62329e240129379e71a94084704",
      "67c2ef71949045a89c2b40a41fcfd74b",
      "164e8ba8de8c40b59807af81f12b9902",
      "d1d1865b2a554df2ad120a4b1900ead7",
      "914e4842d0f54c1b8c12f5fc3427ef34",
      "e5adaa5b217d40bca7aab69022968e86",
      "5c4d696f31cb43558c53ab1766816b95",
      "99a7e1004ca146bc933c4394c8633800",
      "fb75d1356c9f4ad89142f27d39d4bafb",
      "7f9c66824bd34f9ab8185a4be2dda1e8",
      "3f4b6549960d4324903de1f662e60b74",
      "cd319596216f4f18bd76705d4f7fcf44",
      "207df29538344f378194868721471b41",
      "6e92d38816174031b318d615890b3882",
      "20bc161caa684c7f8c625c738ab26032",
      "8f9e20729a2a447d8c18e50e167002ba",
      "3380a94127264123915731e5954748aa",
      "388bbf840c2c4f5284041d9da33213e1",
      "f5d7b27cebad4a0abee7486a991ac251",
      "a1cf31b3af8e41b39f231efea9c51bed",
      "cb3119407bd246d18ae9dd78943ca9d2",
      "83f4b2198bcc485e88a928002f26181b",
      "62637313fd4b40249c892d0aa758078b",
      "d77d933086754e48949c229e18e13514",
      "3659c45e84d34d58a42172f0c685984e",
      "b10333c737fe49d9a5aae412d3168039",
      "57eecc2f18ad466883dba933e0abcd29",
      "7658a571644b49a690616ae8baf3fd2a",
      "3931a73516f14ab096d5e3c0e8fe31be",
      "2cca4e0f50254949b66382c96e3a1736",
      "46a9c98bbfb744f69b4264e2046547c8",
      "790a965d650a419bb17d4dce205263a8",
      "26465bda21aa466b89998d79f192ee8b",
      "784d61fb2bec4928b7f7eaa471d6a243",
      "ad4a7c49f2b747d7996f36a67e6fa2f9",
      "41306dbad815400bb52dca2d31f2e02f",
      "42bffb39302f4a62a41ac6d026339e37",
      "755da4e02dbc4f04a5d0245da4f25e8b",
      "b799a00a07764d1a8d2a3a60ca60befd",
      "a49c296c151e4f279fd107a67bc49625",
      "84c59ff21a224e2383a57ebe912fb4f5",
      "583705851eab45cf94bddac9cc24499a",
      "8a239407414c49c798257a4b02ed87be",
      "2784ec3c44c94568b7d536bc2ef2f6ea",
      "008cfb7d30f24c8cacaa3e2aa613e356",
      "75f1b4fecd9b443daa3ef9fdf6854a35",
      "32d8bcd931db43deb8fae4b7e77771fc",
      "7e8097fe3265404d9c823dc662c60ac7",
      "98267515ea0a47f4a8cdea8ed007e640",
      "d6c50a82062b4b1a830b031d49682cc9",
      "3115421dfe7a41c2bdba9b830e04dfa8",
      "51c4ef9dee8a477c920a79c33c069c08",
      "ec9180ac840649dda291f770304e2c58",
      "1fead5dabfaa4d919bee9f20f89a8616",
      "c0a0e1563b074e80a83bc317cef9c26b",
      "4762cd576f294d8aa66e76957109ba86",
      "4c3cc66f4b2e4954b8135b9d3e3604d8",
      "2af418e45b914b6faed3bb662f1ffb28",
      "9f54d686556a49dba533bbe61888da88",
      "ceff10111f114c9787984619aa3207a9",
      "77588422c5564b21bd066769f5bd9e38",
      "2e5d85ca9b59452c805c2e6677fe7f38",
      "253987892c2444e492f3416befd1eafb",
      "f86288edf01247649ac0005eb2769f74",
      "a57626a4418647168762a7d12d178701",
      "9bb0fa03c84140359aae382785713261",
      "c275751d18cc4c21acede92a04d243b8"
     ]
    },
    "id": "6TVYLq6-weAf",
    "outputId": "11b568b2-7bba-480e-e15d-f8b7258f1514"
   },
   "outputs": [
    {
     "name": "stderr",
     "output_type": "stream",
     "text": [
      "/usr/local/lib/python3.11/dist-packages/huggingface_hub/utils/_auth.py:94: UserWarning: \n",
      "The secret `HF_TOKEN` does not exist in your Colab secrets.\n",
      "To authenticate with the Hugging Face Hub, create a token in your settings tab (https://huggingface.co/settings/tokens), set it as secret in your Google Colab and restart your session.\n",
      "You will be able to reuse this secret in all of your notebooks.\n",
      "Please note that authentication is recommended but still optional to access public models or datasets.\n",
      "  warnings.warn(\n"
     ]
    },
    {
     "data": {
      "application/vnd.jupyter.widget-view+json": {
       "model_id": "86eb13b1026b435aa08fa940e03c59ee",
       "version_major": 2,
       "version_minor": 0
      },
      "text/plain": [
       "README.md: 0.00B [00:00, ?B/s]"
      ]
     },
     "metadata": {},
     "output_type": "display_data"
    },
    {
     "data": {
      "application/vnd.jupyter.widget-view+json": {
       "model_id": "d2038211f20b4c99b1341bfa4565cac8",
       "version_major": 2,
       "version_minor": 0
      },
      "text/plain": [
       "train-00000-of-00001.parquet:   0%|          | 0.00/1.03M [00:00<?, ?B/s]"
      ]
     },
     "metadata": {},
     "output_type": "display_data"
    },
    {
     "data": {
      "application/vnd.jupyter.widget-view+json": {
       "model_id": "a21d7f0d47a940e3b39d96a8484bc81b",
       "version_major": 2,
       "version_minor": 0
      },
      "text/plain": [
       "validation-00000-of-00001.parquet:   0%|          | 0.00/127k [00:00<?, ?B/s]"
      ]
     },
     "metadata": {},
     "output_type": "display_data"
    },
    {
     "data": {
      "application/vnd.jupyter.widget-view+json": {
       "model_id": "d56c087fc80249eb888f4e7de6f7cf66",
       "version_major": 2,
       "version_minor": 0
      },
      "text/plain": [
       "test-00000-of-00001.parquet:   0%|          | 0.00/129k [00:00<?, ?B/s]"
      ]
     },
     "metadata": {},
     "output_type": "display_data"
    },
    {
     "data": {
      "application/vnd.jupyter.widget-view+json": {
       "model_id": "257dc40dcbb940b6a9975240e8be5fb3",
       "version_major": 2,
       "version_minor": 0
      },
      "text/plain": [
       "Generating train split:   0%|          | 0/16000 [00:00<?, ? examples/s]"
      ]
     },
     "metadata": {},
     "output_type": "display_data"
    },
    {
     "data": {
      "application/vnd.jupyter.widget-view+json": {
       "model_id": "67c2ef71949045a89c2b40a41fcfd74b",
       "version_major": 2,
       "version_minor": 0
      },
      "text/plain": [
       "Generating validation split:   0%|          | 0/2000 [00:00<?, ? examples/s]"
      ]
     },
     "metadata": {},
     "output_type": "display_data"
    },
    {
     "data": {
      "application/vnd.jupyter.widget-view+json": {
       "model_id": "207df29538344f378194868721471b41",
       "version_major": 2,
       "version_minor": 0
      },
      "text/plain": [
       "Generating test split:   0%|          | 0/2000 [00:00<?, ? examples/s]"
      ]
     },
     "metadata": {},
     "output_type": "display_data"
    },
    {
     "data": {
      "application/vnd.jupyter.widget-view+json": {
       "model_id": "d77d933086754e48949c229e18e13514",
       "version_major": 2,
       "version_minor": 0
      },
      "text/plain": [
       "tokenizer_config.json:   0%|          | 0.00/48.0 [00:00<?, ?B/s]"
      ]
     },
     "metadata": {},
     "output_type": "display_data"
    },
    {
     "data": {
      "application/vnd.jupyter.widget-view+json": {
       "model_id": "ad4a7c49f2b747d7996f36a67e6fa2f9",
       "version_major": 2,
       "version_minor": 0
      },
      "text/plain": [
       "config.json:   0%|          | 0.00/483 [00:00<?, ?B/s]"
      ]
     },
     "metadata": {},
     "output_type": "display_data"
    },
    {
     "data": {
      "application/vnd.jupyter.widget-view+json": {
       "model_id": "75f1b4fecd9b443daa3ef9fdf6854a35",
       "version_major": 2,
       "version_minor": 0
      },
      "text/plain": [
       "vocab.txt:   0%|          | 0.00/232k [00:00<?, ?B/s]"
      ]
     },
     "metadata": {},
     "output_type": "display_data"
    },
    {
     "data": {
      "application/vnd.jupyter.widget-view+json": {
       "model_id": "4c3cc66f4b2e4954b8135b9d3e3604d8",
       "version_major": 2,
       "version_minor": 0
      },
      "text/plain": [
       "tokenizer.json:   0%|          | 0.00/466k [00:00<?, ?B/s]"
      ]
     },
     "metadata": {},
     "output_type": "display_data"
    }
   ],
   "source": [
    "data = load_dataset(\"emotion\")\n",
    "\n",
    "hf_model = \"distilbert-base-uncased\"\n",
    "tokenizer = AutoTokenizer.from_pretrained(hf_model)"
   ]
  },
  {
   "cell_type": "code",
   "execution_count": 3,
   "metadata": {
    "id": "HZ2yiVRIxWDD"
   },
   "outputs": [],
   "source": [
    "def tokenize(batch):\n",
    "    return tokenizer(batch[\"text\"], padding=True, truncation=True)\n"
   ]
  },
  {
   "cell_type": "code",
   "execution_count": 4,
   "metadata": {
    "colab": {
     "base_uri": "https://localhost:8080/",
     "height": 113,
     "referenced_widgets": [
      "93588c3fe3bc4147a38b8e4e03eb583e",
      "1b984fe9c1524043852530201cbca370",
      "af3ff530ca7b422a80e4fde71de11327",
      "02d987247a7741ba9224a728dd13845a",
      "2f8df53cd648482cb577693c8944fe65",
      "79a10c1f76934c4b8d3266415b93e273",
      "148c1b2f24fe4bd49fa4fe1c858466d8",
      "8c96153b341d49abbe10e7913121b483",
      "d86ad5b8977f45c9a43913e81fbdc605",
      "6846d35b59804c45bbda279d54ef71e2",
      "d54cab48a9bf466e9a6b39958467e1c7",
      "fbb46e3339844ef1b5a85f2a3c76cbbb",
      "c34984860d144b31b07d62288fb4e954",
      "410b9ae42463462dbca54e3c6e9510c4",
      "f4c3faed3bad4593b7ba1038bfa4ee4a",
      "f95ebe0b67a14179b396d448dfca05f1",
      "ed45aeeecf234f11bd49d89b3e1b9a05",
      "20830eb9f2554081b87c5211dd350e7c",
      "491d70d63af74158be0e4f6707fd00a6",
      "7914b4a09afa45cf82f6b3e51d95e9bf",
      "7b8b079358894a5da05aaf961b26fe7e",
      "dcd8bc8aec43431486ac94d1b1a0652f",
      "918f07fdac254c59ae87428e81916c96",
      "4370c60ad55b4b58b2d8fc3358b477b6",
      "bf8a92b08d844f16b7b8a39bf0be1337",
      "544fa4a61aa24c3193f0e326c3962295",
      "69848f433cd746f1b029a62a519fb486",
      "7bf7f5d1301b4a7f94e6ac9c2e27de8f",
      "b1cbd0bee4814c42b77e13bdc708370e",
      "e96b89b3f5ce4398b6f7bdd3559da19c",
      "895cf74ee55c4e478e0e3d9aa2ad1d5a",
      "b881f031b5624ccb8396ab85e35cd116",
      "31f66d7ccf6f4043b986bf78d3ba5cbc"
     ]
    },
    "id": "6G6KQUwAxvW_",
    "outputId": "0e47bdc5-e930-4cce-b5b2-92c0716b9cc4"
   },
   "outputs": [
    {
     "data": {
      "application/vnd.jupyter.widget-view+json": {
       "model_id": "93588c3fe3bc4147a38b8e4e03eb583e",
       "version_major": 2,
       "version_minor": 0
      },
      "text/plain": [
       "Map:   0%|          | 0/16000 [00:00<?, ? examples/s]"
      ]
     },
     "metadata": {},
     "output_type": "display_data"
    },
    {
     "data": {
      "application/vnd.jupyter.widget-view+json": {
       "model_id": "fbb46e3339844ef1b5a85f2a3c76cbbb",
       "version_major": 2,
       "version_minor": 0
      },
      "text/plain": [
       "Map:   0%|          | 0/2000 [00:00<?, ? examples/s]"
      ]
     },
     "metadata": {},
     "output_type": "display_data"
    },
    {
     "data": {
      "application/vnd.jupyter.widget-view+json": {
       "model_id": "918f07fdac254c59ae87428e81916c96",
       "version_major": 2,
       "version_minor": 0
      },
      "text/plain": [
       "Map:   0%|          | 0/2000 [00:00<?, ? examples/s]"
      ]
     },
     "metadata": {},
     "output_type": "display_data"
    }
   ],
   "source": [
    "data_encoded = data.map(tokenize, batched=True, batch_size=None)"
   ]
  },
  {
   "cell_type": "code",
   "execution_count": 5,
   "metadata": {
    "id": "hUDS5REqyFr9"
   },
   "outputs": [],
   "source": [
    "device = torch.device(\"cuda\" if torch.cuda.is_available() else \"cpu\")"
   ]
  },
  {
   "cell_type": "code",
   "execution_count": 6,
   "metadata": {
    "colab": {
     "base_uri": "https://localhost:8080/",
     "height": 104,
     "referenced_widgets": [
      "c88b65384a74429e948a00fae2fdbea9",
      "78ae548a091c446b861f7c349d72f854",
      "4f70832b8f0944e6860ec3e0ca9712bc",
      "2464fd5a24554ed488ae6d53d01e8ff8",
      "d33570b1b66b47f686d9f059d481ea6d",
      "c316c0dad9ae4eebaa99312708f23a8c",
      "97c7c6686b494b8286ea51122c8b5767",
      "2e0d706ad7534a82b67b5dfafce4113b",
      "dc209cad764f4fe2b3f918feebd90f1e",
      "9dc169894f534f0dbcfbe3f33844402c",
      "8a6abf06ca214f1c9113dbccc5853f4f"
     ]
    },
    "id": "Nbb7nEycyZOt",
    "outputId": "0ea98bc4-0dc4-4270-fe81-98d13321628a"
   },
   "outputs": [
    {
     "data": {
      "application/vnd.jupyter.widget-view+json": {
       "model_id": "c88b65384a74429e948a00fae2fdbea9",
       "version_major": 2,
       "version_minor": 0
      },
      "text/plain": [
       "model.safetensors:   0%|          | 0.00/268M [00:00<?, ?B/s]"
      ]
     },
     "metadata": {},
     "output_type": "display_data"
    },
    {
     "name": "stderr",
     "output_type": "stream",
     "text": [
      "Some weights of DistilBertForSequenceClassification were not initialized from the model checkpoint at distilbert-base-uncased and are newly initialized: ['classifier.bias', 'classifier.weight', 'pre_classifier.bias', 'pre_classifier.weight']\n",
      "You should probably TRAIN this model on a down-stream task to be able to use it for predictions and inference.\n"
     ]
    }
   ],
   "source": [
    "model = (AutoModelForSequenceClassification.from_pretrained(hf_model, num_labels=6).to(device))"
   ]
  },
  {
   "cell_type": "code",
   "execution_count": 7,
   "metadata": {
    "colab": {
     "base_uri": "https://localhost:8080/"
    },
    "id": "CmJdLdh3-tBK",
    "outputId": "b1842c32-c364-4492-827f-5aa8e9230550"
   },
   "outputs": [
    {
     "data": {
      "text/plain": [
       "DistilBertForSequenceClassification(\n",
       "  (distilbert): DistilBertModel(\n",
       "    (embeddings): Embeddings(\n",
       "      (word_embeddings): Embedding(30522, 768, padding_idx=0)\n",
       "      (position_embeddings): Embedding(512, 768)\n",
       "      (LayerNorm): LayerNorm((768,), eps=1e-12, elementwise_affine=True)\n",
       "      (dropout): Dropout(p=0.1, inplace=False)\n",
       "    )\n",
       "    (transformer): Transformer(\n",
       "      (layer): ModuleList(\n",
       "        (0-5): 6 x TransformerBlock(\n",
       "          (attention): DistilBertSdpaAttention(\n",
       "            (dropout): Dropout(p=0.1, inplace=False)\n",
       "            (q_lin): Linear(in_features=768, out_features=768, bias=True)\n",
       "            (k_lin): Linear(in_features=768, out_features=768, bias=True)\n",
       "            (v_lin): Linear(in_features=768, out_features=768, bias=True)\n",
       "            (out_lin): Linear(in_features=768, out_features=768, bias=True)\n",
       "          )\n",
       "          (sa_layer_norm): LayerNorm((768,), eps=1e-12, elementwise_affine=True)\n",
       "          (ffn): FFN(\n",
       "            (dropout): Dropout(p=0.1, inplace=False)\n",
       "            (lin1): Linear(in_features=768, out_features=3072, bias=True)\n",
       "            (lin2): Linear(in_features=3072, out_features=768, bias=True)\n",
       "            (activation): GELUActivation()\n",
       "          )\n",
       "          (output_layer_norm): LayerNorm((768,), eps=1e-12, elementwise_affine=True)\n",
       "        )\n",
       "      )\n",
       "    )\n",
       "  )\n",
       "  (pre_classifier): Linear(in_features=768, out_features=768, bias=True)\n",
       "  (classifier): Linear(in_features=768, out_features=6, bias=True)\n",
       "  (dropout): Dropout(p=0.2, inplace=False)\n",
       ")"
      ]
     },
     "execution_count": 7,
     "metadata": {},
     "output_type": "execute_result"
    }
   ],
   "source": [
    "model"
   ]
  },
  {
   "cell_type": "code",
   "execution_count": 8,
   "metadata": {
    "id": "hwVvImBN1ANK"
   },
   "outputs": [],
   "source": [
    "!pip install -q huggingface_hub"
   ]
  },
  {
   "cell_type": "code",
   "execution_count": 9,
   "metadata": {
    "colab": {
     "base_uri": "https://localhost:8080/"
    },
    "id": "ZSKlC9pP2Nzi",
    "outputId": "9a2f097a-c870-457b-bcf9-2d9445e3e34a"
   },
   "outputs": [
    {
     "name": "stdout",
     "output_type": "stream",
     "text": [
      "\u001b[33m⚠️  Warning: 'huggingface-cli login' is deprecated. Use 'hf auth login' instead.\u001b[0m\n",
      "\n",
      "    _|    _|  _|    _|    _|_|_|    _|_|_|  _|_|_|  _|      _|    _|_|_|      _|_|_|_|    _|_|      _|_|_|  _|_|_|_|\n",
      "    _|    _|  _|    _|  _|        _|          _|    _|_|    _|  _|            _|        _|    _|  _|        _|\n",
      "    _|_|_|_|  _|    _|  _|  _|_|  _|  _|_|    _|    _|  _|  _|  _|  _|_|      _|_|_|    _|_|_|_|  _|        _|_|_|\n",
      "    _|    _|  _|    _|  _|    _|  _|    _|    _|    _|    _|_|  _|    _|      _|        _|    _|  _|        _|\n",
      "    _|    _|    _|_|      _|_|_|    _|_|_|  _|_|_|  _|      _|    _|_|_|      _|        _|    _|    _|_|_|  _|_|_|_|\n",
      "\n",
      "    To log in, `huggingface_hub` requires a token generated from https://huggingface.co/settings/tokens .\n",
      "Enter your token (input will not be visible): \n",
      "Add token as git credential? (Y/n) n\n",
      "Token is valid (permission: fineGrained).\n",
      "The token `text_clf` has been saved to /root/.cache/huggingface/stored_tokens\n",
      "Your token has been saved to /root/.cache/huggingface/token\n",
      "Login successful.\n",
      "The current active token is: `text_clf`\n"
     ]
    }
   ],
   "source": [
    "!huggingface-cli login"
   ]
  },
  {
   "cell_type": "code",
   "execution_count": 10,
   "metadata": {
    "id": "5AECx8PY9ftS"
   },
   "outputs": [],
   "source": [
    "import os\n",
    "os.environ[\"WANDB_DISABLED\"] = \"true\"\n"
   ]
  },
  {
   "cell_type": "code",
   "execution_count": 11,
   "metadata": {
    "colab": {
     "base_uri": "https://localhost:8080/"
    },
    "id": "5iqe-fkNymMq",
    "outputId": "f0a606d5-3c50-4a6a-89e5-83aebaf2469b"
   },
   "outputs": [
    {
     "name": "stderr",
     "output_type": "stream",
     "text": [
      "Using the `WANDB_DISABLED` environment variable is deprecated and will be removed in v5. Use the --report_to flag to control the integrations used for logging result (for instance --report_to none).\n",
      "/tmp/ipython-input-3308775890.py:23: FutureWarning: `tokenizer` is deprecated and will be removed in version 5.0.0 for `Trainer.__init__`. Use `processing_class` instead.\n",
      "  trainer = Trainer(\n"
     ]
    },
    {
     "name": "stdout",
     "output_type": "stream",
     "text": [
      "{'loss': 0.5385, 'grad_norm': 5.434600830078125, 'learning_rate': 4e-08, 'epoch': 2.0}\n",
      "{'train_runtime': 242.9192, 'train_samples_per_second': 131.731, 'train_steps_per_second': 2.058, 'train_loss': 0.5384974365234375, 'epoch': 2.0}\n",
      "{'eval_loss': 0.22313740849494934, 'eval_accuracy': 0.924, 'eval_f1': 0.9237052176842528, 'eval_runtime': 4.706, 'eval_samples_per_second': 424.994, 'eval_steps_per_second': 6.8, 'epoch': 2.0}\n",
      "{'eval_loss': 0.22313740849494934, 'eval_accuracy': 0.924, 'eval_f1': 0.9237052176842528, 'eval_runtime': 4.706, 'eval_samples_per_second': 424.994, 'eval_steps_per_second': 6.8, 'epoch': 2.0}\n"
     ]
    }
   ],
   "source": [
    "batch_size = 64\n",
    "training_args = TrainingArguments(\n",
    "    num_train_epochs = 2,\n",
    "    learning_rate = 2e-5,\n",
    "    per_device_train_batch_size = batch_size,\n",
    "    per_device_eval_batch_size = batch_size,\n",
    "    weight_decay = 0.01,\n",
    "    # evaluation_strategy = \"epoch\",\n",
    "    disable_tqdm = True,\n",
    "    push_to_hub = True,\n",
    "    output_dir = \"outputs\"\n",
    ")\n",
    "\n",
    "def compute_metrics(predicts):\n",
    "    labels = predicts.label_ids\n",
    "    predicts = predicts.predictions.argmax(-1)\n",
    "    f1 = f1_score(labels, predicts, average=\"weighted\")\n",
    "    acc = accuracy_score(labels, predicts)\n",
    "    return {\"accuracy\": acc, \"f1\": f1}\n",
    "\n",
    "\n",
    "\n",
    "trainer = Trainer(\n",
    "    model=model,\n",
    "    args=training_args,\n",
    "    compute_metrics=compute_metrics,\n",
    "    train_dataset=data_encoded[\"train\"],\n",
    "    eval_dataset=data_encoded[\"validation\"],\n",
    "    tokenizer=tokenizer\n",
    "    )\n",
    "\n",
    "\n",
    "\n",
    "trainer.train()\n",
    "\n",
    "metrics = trainer.evaluate()\n",
    "\n",
    "print(metrics)\n"
   ]
  },
  {
   "cell_type": "code",
   "execution_count": 12,
   "metadata": {
    "colab": {
     "base_uri": "https://localhost:8080/",
     "height": 136,
     "referenced_widgets": [
      "4127a583aea64909a77cf919211c5a2b",
      "cd0f5f3ba2234aa79630b6cb6a369e3d",
      "8ab81976200e4dd0ae0e884bae1f2339",
      "768b87b0f21c487ebc33512725cd6703",
      "4c7801207cd24905b06bcd98a5367d11",
      "0ffee807102d43f38bf65bb6b8e56878",
      "15e8a3f1152d48dbad290f17a2805a0d",
      "9583ec895f6841a5b7b5829f6578e4a4",
      "c67d3110139043f4801f254a1dcb55a1",
      "85be2d1f050c4e59b5a83ad35f16c3cf",
      "3ea79b7dedeb4c2b9537686ad458926d"
     ]
    },
    "id": "DWSxOpgy9Lrl",
    "outputId": "0eed1314-ed8c-4d5f-8366-3cc38a98c176"
   },
   "outputs": [
    {
     "data": {
      "application/vnd.jupyter.widget-view+json": {
       "model_id": "4127a583aea64909a77cf919211c5a2b",
       "version_major": 2,
       "version_minor": 0
      },
      "text/plain": [
       "events.out.tfevents.1754324341.7c16d03b3fb8.1785.1:   0%|          | 0.00/457 [00:00<?, ?B/s]"
      ]
     },
     "metadata": {},
     "output_type": "display_data"
    },
    {
     "data": {
      "text/plain": [
       "('outputs/final_model/tokenizer_config.json',\n",
       " 'outputs/final_model/special_tokens_map.json',\n",
       " 'outputs/final_model/vocab.txt',\n",
       " 'outputs/final_model/added_tokens.json',\n",
       " 'outputs/final_model/tokenizer.json')"
      ]
     },
     "execution_count": 12,
     "metadata": {},
     "output_type": "execute_result"
    }
   ],
   "source": [
    "trainer.save_model(\"outputs/final_model\")\n",
    "tokenizer.save_pretrained(\"outputs/final_model\")"
   ]
  },
  {
   "cell_type": "code",
   "execution_count": 13,
   "metadata": {
    "colab": {
     "base_uri": "https://localhost:8080/"
    },
    "id": "CsoCHLuL__0K",
    "outputId": "e2a8b0ad-4066-4509-904a-45ef84719047"
   },
   "outputs": [
    {
     "data": {
      "text/plain": [
       "{'eval_loss': 0.22313740849494934,\n",
       " 'eval_accuracy': 0.924,\n",
       " 'eval_f1': 0.9237052176842528,\n",
       " 'eval_runtime': 4.706,\n",
       " 'eval_samples_per_second': 424.994,\n",
       " 'eval_steps_per_second': 6.8,\n",
       " 'epoch': 2.0}"
      ]
     },
     "execution_count": 13,
     "metadata": {},
     "output_type": "execute_result"
    }
   ],
   "source": [
    "metrics"
   ]
  },
  {
   "cell_type": "code",
   "execution_count": 14,
   "metadata": {
    "colab": {
     "base_uri": "https://localhost:8080/",
     "height": 428
    },
    "id": "G0eLusoB_9Yy",
    "outputId": "7a42c6fc-aae6-4381-883f-86c5f077ea8d"
   },
   "outputs": [
    {
     "name": "stdout",
     "output_type": "stream",
     "text": [
      "{'eval_loss': 0.22313740849494934, 'eval_accuracy': 0.924, 'eval_f1': 0.9237052176842528, 'eval_runtime': 3.9912, 'eval_samples_per_second': 501.104, 'eval_steps_per_second': 8.018, 'epoch': 2.0}\n"
     ]
    },
    {
     "data": {
      "image/png": "[encoded data removed]",
      "text/plain": [
       "<Figure size 600x400 with 1 Axes>"
      ]
     },
     "metadata": {},
     "output_type": "display_data"
    }
   ],
   "source": [
    "import matplotlib.pyplot as plt\n",
    "\n",
    "\n",
    "metrics = trainer.evaluate()\n",
    "accuracy = metrics[\"eval_accuracy\"]\n",
    "f1 = metrics[\"eval_f1\"]\n",
    "\n",
    "\n",
    "plt.figure(figsize=(6,4))\n",
    "plt.bar([\"Accuracy\", \"F1-score\"], [accuracy, f1], color=[\"#4CAF50\", \"#2196F3\"])\n",
    "plt.ylim(0, 1)\n",
    "plt.title(\"Evaluation Metrics\")\n",
    "plt.ylabel(\"Score\")\n",
    "plt.show()"
   ]
  },
  {
   "cell_type": "markdown",
   "metadata": {
    "id": "4K_VPpJm3bbf"
   },
   "source": [
    "# load model for Inference\n"
   ]
  },
  {
   "cell_type": "code",
   "execution_count": 15,
   "metadata": {
    "colab": {
     "base_uri": "https://localhost:8080/"
    },
    "id": "jqxj3v7W3abo",
    "outputId": "31c2f69f-b2af-4c64-c92b-7ac8a2dd4666"
   },
   "outputs": [
    {
     "data": {
      "text/plain": [
       "DistilBertForSequenceClassification(\n",
       "  (distilbert): DistilBertModel(\n",
       "    (embeddings): Embeddings(\n",
       "      (word_embeddings): Embedding(30522, 768, padding_idx=0)\n",
       "      (position_embeddings): Embedding(512, 768)\n",
       "      (LayerNorm): LayerNorm((768,), eps=1e-12, elementwise_affine=True)\n",
       "      (dropout): Dropout(p=0.1, inplace=False)\n",
       "    )\n",
       "    (transformer): Transformer(\n",
       "      (layer): ModuleList(\n",
       "        (0-5): 6 x TransformerBlock(\n",
       "          (attention): DistilBertSdpaAttention(\n",
       "            (dropout): Dropout(p=0.1, inplace=False)\n",
       "            (q_lin): Linear(in_features=768, out_features=768, bias=True)\n",
       "            (k_lin): Linear(in_features=768, out_features=768, bias=True)\n",
       "            (v_lin): Linear(in_features=768, out_features=768, bias=True)\n",
       "            (out_lin): Linear(in_features=768, out_features=768, bias=True)\n",
       "          )\n",
       "          (sa_layer_norm): LayerNorm((768,), eps=1e-12, elementwise_affine=True)\n",
       "          (ffn): FFN(\n",
       "            (dropout): Dropout(p=0.1, inplace=False)\n",
       "            (lin1): Linear(in_features=768, out_features=3072, bias=True)\n",
       "            (lin2): Linear(in_features=3072, out_features=768, bias=True)\n",
       "            (activation): GELUActivation()\n",
       "          )\n",
       "          (output_layer_norm): LayerNorm((768,), eps=1e-12, elementwise_affine=True)\n",
       "        )\n",
       "      )\n",
       "    )\n",
       "  )\n",
       "  (pre_classifier): Linear(in_features=768, out_features=768, bias=True)\n",
       "  (classifier): Linear(in_features=768, out_features=6, bias=True)\n",
       "  (dropout): Dropout(p=0.2, inplace=False)\n",
       ")"
      ]
     },
     "execution_count": 15,
     "metadata": {},
     "output_type": "execute_result"
    }
   ],
   "source": [
    "my_custom_model = \"outputs/final_model\"\n",
    "\n",
    "model = AutoModelForSequenceClassification.from_pretrained(my_custom_model)\n",
    "tokenizer = AutoTokenizer.from_pretrained(my_custom_model)\n",
    "\n",
    "model.eval()"
   ]
  },
  {
   "cell_type": "code",
   "execution_count": 16,
   "metadata": {
    "id": "TIe_TC9B4o3e"
   },
   "outputs": [],
   "source": [
    "def predict(text):\n",
    "    inputs = tokenizer(text, padding=True, truncation=True, return_tensors=\"pt\")\n",
    "    with torch.no_grad():\n",
    "      outputs = model(**inputs)\n",
    "      probabilities = torch.nn.functional.softmax(outputs.logits, dim=-1)\n",
    "      predicted = torch.argmax(probabilities, dim=-1)\n",
    "    return predicted, probabilities\n"
   ]
  },
  {
   "cell_type": "code",
   "execution_count": 21,
   "metadata": {
    "colab": {
     "base_uri": "https://localhost:8080/"
    },
    "id": "XVnoROeb60yi",
    "outputId": "1e5eff43-75eb-4f23-8aef-e80b499f5b54"
   },
   "outputs": [
    {
     "name": "stdout",
     "output_type": "stream",
     "text": [
      "['sadness', 'joy', 'love', 'anger', 'fear', 'surprise']\n"
     ]
    }
   ],
   "source": [
    "\n",
    "label_names = data[\"train\"].features[\"label\"].names\n",
    "print(label_names)"
   ]
  },
  {
   "cell_type": "code",
   "execution_count": 19,
   "metadata": {
    "colab": {
     "base_uri": "https://localhost:8080/"
    },
    "id": "IhNr8U3A5PMo",
    "outputId": "66bef22f-1e8d-4845-8a71-b3e7ba646e41"
   },
   "outputs": [
    {
     "name": "stdout",
     "output_type": "stream",
     "text": [
      "\n",
      " Comment: I am so happy and excited!\n",
      "Predicted Emotion: joy\n",
      "Probabilities: [0.00456281 0.9758672  0.0065367  0.00449763 0.00251085 0.00602482]\n",
      "\n",
      " Comment: This is the worst day of my life.\n",
      "Predicted Emotion: sadness\n",
      "Probabilities: [0.8748107  0.02571472 0.00762716 0.06016971 0.027543   0.00413469]\n"
     ]
    }
   ],
   "source": [
    "# sample\n",
    "new_comments = [\n",
    "    \"I am so happy and excited!\",\n",
    "    \"This is the worst day of my life.\"\n",
    "]\n",
    "\n",
    "labels = data['train'].features['label'].names\n",
    "\n",
    "predicted, probabilities = predict(new_texts)\n",
    "\n",
    "\n",
    "for i, comment in enumerate(new_comments):\n",
    "    print(f\"\\n Comment: {comment}\")\n",
    "    print(f\"Predicted Emotion: {labels[predicted[i]]}\")\n",
    "    print(f\"Probabilities: {probabilities[i].numpy()}\")\n",
    "\n"
   ]
  }
 ],
 "metadata": {
  "accelerator": "GPU",
  "colab": {
   "gpuType": "T4",
   "provenance": []
  },
  "kernelspec": {
   "display_name": "Python 3",
   "name": "python3"
  },
  "language_info": {
   "name": "python"
  }
 },
 "nbformat": 4,
 "nbformat_minor": 0
}
